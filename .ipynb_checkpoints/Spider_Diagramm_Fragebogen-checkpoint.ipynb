{
 "cells": [
  {
   "cell_type": "markdown",
   "metadata": {},
   "source": [
    "# Notebook zur Auswertung des Data-Literacy-Fragebogens mit Python"
   ]
  },
  {
   "cell_type": "markdown",
   "metadata": {},
   "source": [
    "Das Data Literacy - Modell hilft Einzelpersonen und Organisation dabei, ihre Fähigkeiten beim Umgang mit Daten einzuschätzen. Feedback zum Modell ist jederzeit willkommen! Wir nutzen das Modell, um unsere Workshops besser auf die Bedürfnisse unserer Partner auszurichten und die Wirkung unserer Aktivitäten zu messen. Den <a  href=\"https://docs.google.com/a/okfn.de/forms/d/15SU7FVi8VU7OyVE2CSz9aLxUSWkN9ob9vz60vOxueVo/edit\" />Data-Literacy Fragebogen </a> könnt ihr hier finden. In diesem Notebook informieren wir über die Auswertungsschritten und stellen ein Script bereit, mit dem sich ein Bild über den Data-Literacy Stand einer Organisation erstellen lässt. Das Script basiert auf der Programmiersprache Python (3.6)."
   ]
  },
  {
   "cell_type": "code",
   "execution_count": 1,
   "metadata": {
    "collapsed": false
   },
   "outputs": [],
   "source": [
    "import pandas as pd\n",
    "import numpy as np\n",
    "import pylab as pl"
   ]
  },
  {
   "cell_type": "markdown",
   "metadata": {},
   "source": [
    "Zunächst müssen wir die Libraries <a  href=\"http://pandas.pydata.org/\">Pandas</a>, <a  href=\"http://www.numpy.org/\"> Numpy</a> und <a  href=\"http://matplotlib.org/\">Matplotlib</a> importieren, die wir für die Auswertung und die Visualisierung benötigen."
   ]
  },
  {
   "cell_type": "code",
   "execution_count": 2,
   "metadata": {
    "collapsed": false
   },
   "outputs": [],
   "source": [
    "df_answer = pd.read_excel(io=\"../Data_Literacy_Matrix/Answers/Fragebogen Data Literacy-Modell (Antworten).xlsx\")\n",
    "df_matrix = pd.read_excel(io=\"../Data_Literacy_Matrix/Matrix/D_Literacy_matrix.xlsx\")"
   ]
  },
  {
   "cell_type": "markdown",
   "metadata": {},
   "source": [
    "Über die \"read_excel\"-Funktion von Pandas können wir die Antworten auf den Fragebogen und das Modell des Fragebogens als DataFrame importieren. <br> In dem DataFrame df_answer sind die Antworten enthalten, in df_matrix die Punkte-Skala für die jeweiligen Antworten.\n",
    "<br>\n",
    "<br>\n",
    "Die Excel-Datei mit den Antworten muss dafür in den Ordner \"Answers\" abgelegt werden."
   ]
  },
  {
   "cell_type": "markdown",
   "metadata": {},
   "source": [
    "### 1)   Datentransformation"
   ]
  },
  {
   "cell_type": "markdown",
   "metadata": {},
   "source": [
    "#### 1.1)   Antworten"
   ]
  },
  {
   "cell_type": "code",
   "execution_count": 4,
   "metadata": {
    "collapsed": false
   },
   "outputs": [],
   "source": [
    "df_answer = df_answer.ix[:,16:36]"
   ]
  },
  {
   "cell_type": "code",
   "execution_count": 5,
   "metadata": {
    "collapsed": false
   },
   "outputs": [],
   "source": [
    "df_answer.rename(columns={'Welche Aussage beschreibt am besten die Kultur in deiner Organisation hinsichtlich der Arbeit mit Daten?':'culture',\n",
    "       'Welche Aussage beschreibt am besten den Umgang deiner Organisation mit Datenethik und Datenschutz?':'protection',\n",
    "       'Welche Aussage beschreibt am besten deine Fähigkeiten, Fragen zu formulieren, um sinnvolle Antworten in Daten zu finden?':'questions',\n",
    "       'Welche Aussage beschreibt am besten deine Ansätze, Daten zu finden?':'finding',\n",
    "       'Welche Aussage beschreibt am besten deine Ansätze, Daten zu bekommen?':'getting',\n",
    "       'Welche Aussage beschreibt am besten deine Ansätze, die Qualität einer Datenquelle zu prüfen?':'verify',\n",
    "       'Welche Aussage beschreibt am besten deine Ansätze, Daten zu „bereinigen“?':'clean',\n",
    "       'Welche Aussage beschreibt am besten deine Ansätze bei der Datenanalyse? ':'analyse',\n",
    "       'Welche Aussage beschreibt am besten deine Ansätze der Datenvisualisierung?':'visualize',\n",
    "       'Welche Aussage beschreibt am besten deine Ansätze, die Ergebnisse deiner datenbezogenen Arbeit zu kommunizieren?':'communicate',\n",
    "       'Welche Aussage beschreibt am besten deine Ansätze, Ergebnissen aus vorliegenden Daten zu interpretieren?':'interpretation'}, inplace = True)"
   ]
  },
  {
   "cell_type": "markdown",
   "metadata": {},
   "source": [
    "Zunächst nehmen wir uns nur die Antworten vor, die sich auf die Data-Literacy Skala beziehen (Daten finden, bekommen, verifizieren, säubern, analysieren, visualisieren, kommunizieren und interpretieren). Ein kurzer Blick in die Antworten zeigt: die Spaltenüberschriften sind sehr lang, da sie die gesamten Fragen beinhalten (Das wird automatisch bei einem Google-Form  generiert). Mit der \"Rename\"-Funktionen benennen wir diese in kürzere Überschriften um."
   ]
  },
  {
   "cell_type": "code",
   "execution_count": 6,
   "metadata": {
    "collapsed": false
   },
   "outputs": [
    {
     "data": {
      "text/html": [
       "<div>\n",
       "<table border=\"1\" class=\"dataframe\">\n",
       "  <thead>\n",
       "    <tr style=\"text-align: right;\">\n",
       "      <th></th>\n",
       "      <th>culture</th>\n",
       "      <th>protection</th>\n",
       "      <th>questions</th>\n",
       "      <th>finding</th>\n",
       "      <th>getting</th>\n",
       "      <th>verify</th>\n",
       "      <th>clean</th>\n",
       "      <th>analyse</th>\n",
       "      <th>visualize</th>\n",
       "      <th>communicate</th>\n",
       "      <th>interpretation</th>\n",
       "    </tr>\n",
       "  </thead>\n",
       "  <tbody>\n",
       "    <tr>\n",
       "      <th>0</th>\n",
       "      <td>Daten werden nicht als Quelle von Unsicherheit...</td>\n",
       "      <td>Konsequente, organisationsweite Richtlinien fü...</td>\n",
       "      <td>Möglichkeit, Fragen zu formulieren, die durch ...</td>\n",
       "      <td>Die fortgeschrittene Nutzung von Suchmaschinen...</td>\n",
       "      <td>Daten werden als Datei heruntergeladen. Datenf...</td>\n",
       "      <td>Best Practices bestehen, Mitarbeiter/innen wer...</td>\n",
       "      <td>Bewusstsein besteht, dass Daten nicht nach Spe...</td>\n",
       "      <td>Einfache Nutzung von Tabellen, um Informatione...</td>\n",
       "      <td>Balken- und Kuchendiagramme. Grundlegende Bere...</td>\n",
       "      <td>Statische Visualisierungen unterstützen einfac...</td>\n",
       "      <td>Ergebnisse werden stetig hinterfragt und kriti...</td>\n",
       "    </tr>\n",
       "    <tr>\n",
       "      <th>1</th>\n",
       "      <td>Daten werden nicht als Quelle von Unsicherheit...</td>\n",
       "      <td>Konsequente, organisationsweite Richtlinien fü...</td>\n",
       "      <td>Ganze Projekte basieren auf vielschichtigen Fr...</td>\n",
       "      <td>Die fortgeschrittene Nutzung von Suchmaschinen...</td>\n",
       "      <td>Daten werden als Datei heruntergeladen. Datenf...</td>\n",
       "      <td>Best Practices bestehen, Mitarbeiter/innen wer...</td>\n",
       "      <td>Bewusstsein besteht, dass Daten nicht nach Spe...</td>\n",
       "      <td>Einfache Nutzung von Tabellen, um Informatione...</td>\n",
       "      <td>Pivot-Tabellen, Zusammenfassungen, Histogramme...</td>\n",
       "      <td>Statische Visualisierungen unterstützen einfac...</td>\n",
       "      <td>Ergebnisse werden stetig hinterfragt und kriti...</td>\n",
       "    </tr>\n",
       "  </tbody>\n",
       "</table>\n",
       "</div>"
      ],
      "text/plain": [
       "                                             culture  \\\n",
       "0  Daten werden nicht als Quelle von Unsicherheit...   \n",
       "1  Daten werden nicht als Quelle von Unsicherheit...   \n",
       "\n",
       "                                          protection  \\\n",
       "0  Konsequente, organisationsweite Richtlinien fü...   \n",
       "1  Konsequente, organisationsweite Richtlinien fü...   \n",
       "\n",
       "                                           questions  \\\n",
       "0  Möglichkeit, Fragen zu formulieren, die durch ...   \n",
       "1  Ganze Projekte basieren auf vielschichtigen Fr...   \n",
       "\n",
       "                                             finding  \\\n",
       "0  Die fortgeschrittene Nutzung von Suchmaschinen...   \n",
       "1  Die fortgeschrittene Nutzung von Suchmaschinen...   \n",
       "\n",
       "                                             getting  \\\n",
       "0  Daten werden als Datei heruntergeladen. Datenf...   \n",
       "1  Daten werden als Datei heruntergeladen. Datenf...   \n",
       "\n",
       "                                              verify  \\\n",
       "0  Best Practices bestehen, Mitarbeiter/innen wer...   \n",
       "1  Best Practices bestehen, Mitarbeiter/innen wer...   \n",
       "\n",
       "                                               clean  \\\n",
       "0  Bewusstsein besteht, dass Daten nicht nach Spe...   \n",
       "1  Bewusstsein besteht, dass Daten nicht nach Spe...   \n",
       "\n",
       "                                             analyse  \\\n",
       "0  Einfache Nutzung von Tabellen, um Informatione...   \n",
       "1  Einfache Nutzung von Tabellen, um Informatione...   \n",
       "\n",
       "                                           visualize  \\\n",
       "0  Balken- und Kuchendiagramme. Grundlegende Bere...   \n",
       "1  Pivot-Tabellen, Zusammenfassungen, Histogramme...   \n",
       "\n",
       "                                         communicate  \\\n",
       "0  Statische Visualisierungen unterstützen einfac...   \n",
       "1  Statische Visualisierungen unterstützen einfac...   \n",
       "\n",
       "                                      interpretation  \n",
       "0  Ergebnisse werden stetig hinterfragt und kriti...  \n",
       "1  Ergebnisse werden stetig hinterfragt und kriti...  "
      ]
     },
     "execution_count": 6,
     "metadata": {},
     "output_type": "execute_result"
    }
   ],
   "source": [
    "df_answer.head(2)"
   ]
  },
  {
   "cell_type": "markdown",
   "metadata": {},
   "source": [
    "#### 1.2)   Data-Literacy Matrix"
   ]
  },
  {
   "cell_type": "code",
   "execution_count": 7,
   "metadata": {
    "collapsed": false
   },
   "outputs": [],
   "source": [
    "df_matrix\n",
    "df_matrix.index = np.arange(1, len(df_matrix) + 1)"
   ]
  },
  {
   "cell_type": "code",
   "execution_count": 8,
   "metadata": {
    "collapsed": false
   },
   "outputs": [],
   "source": [
    "dict_matrix = df_matrix.to_dict()"
   ]
  },
  {
   "cell_type": "code",
   "execution_count": 9,
   "metadata": {
    "collapsed": false
   },
   "outputs": [
    {
     "data": {
      "text/plain": [
       "{1: 'Daten werden als unklarer Begriff wahrgenommen, der Unsicherheiten verursacht. Es gibt keine Mitarbeiter/innen mit datenbezogenem Hintergrund.',\n",
       " 2: 'Daten werden als ein interessantes Konzept wahrgenommen und Vorteile werden geschätzt. Unsicherheiten bestehen bei der Anwendung der Fähigkeiten und darin, was konkret beim Arbeiten mit Daten zu erwarten ist. Mitarbeiter/innen mit einigen Datenanalytik-Kenntnissen sind in bedeutenden Positionen vertreten.',\n",
       " 3: 'Daten werden nicht als Quelle von Unsicherheit verstanden, sondern als „Ermöglicher“ für die Planung und Weiterentwicklung von bestehenden und zukünftigen Aktivitäten. Höheres Management und Projektmanager/innen sind sich der Notwendigkeit bewusst, Daten zu sammeln, zu speichern und zielgerichtet einzusetzen. Datenanalyse ist Bestandteil der täglichen Arbeit.',\n",
       " 4: 'Psychologische Barrieren bezüglich der Arbeit mit Daten wurden abgebaut und es herrscht eine Atmosphäre, die das Arbeiten mit Daten aktiv fördert. Datenanalyse / Erkenntnisse werden auf allen Ebenen des Workflows implementiert und optimiert. Datenkompetenz ist eine wichtige Qualifikation für die meisten Mitarbeiter/innen - auch auf höheren Management-Ebenen. Ausreichend Ressourcen (Zeit, Budget, Personal) für das Arbeiten mit Daten existieren.'}"
      ]
     },
     "execution_count": 9,
     "metadata": {},
     "output_type": "execute_result"
    }
   ],
   "source": [
    "dict_matrix['culture']"
   ]
  },
  {
   "cell_type": "markdown",
   "metadata": {},
   "source": [
    "Um die Antworten mit der Matrix abzugleichen und die korrekte Punktzahl für ein Themenfeld zu erhalten, ist es sinnvoll sich zunächst ein dictionary in python zu erstellen. Dieses ordnet die jeweilige Antwort einem Wert zu. Die Funktion *to_dict()* ist hierbei hilfreich. Da in python der Index eines Arrays immer mit Null beginnt, müssen wir diesen um eins erhöhen um eine korrekte Bewertung zu erhalten, denn die Data-Literacy Skala bewegt sich zwischen 1 und 4. Auf diese Weise erhalten wir die korrekten Werte für die jeweiligen Antworten."
   ]
  },
  {
   "cell_type": "markdown",
   "metadata": {},
   "source": [
    "### 2)  Mapping"
   ]
  },
  {
   "cell_type": "code",
   "execution_count": 10,
   "metadata": {
    "collapsed": true
   },
   "outputs": [],
   "source": [
    "def match_points(col):\n",
    "    for key, value in dict_matrix.items():\n",
    "        for k,v in value.items():\n",
    "            if str(v) in col:\n",
    "                return(k)"
   ]
  },
  {
   "cell_type": "markdown",
   "metadata": {},
   "source": [
    "Nachdem wir die Data-Literacy Matrix transformiert haben, schreiben wir uns eine Funktion um die Matrix mit den Antworten abzugleichen. Dazu vergleichen wir jeweils ob die Antwort in der Matrix vorkommt und geben den entsprechenden Wert zurück. Die Funktion nennen wir *match_points*"
   ]
  },
  {
   "cell_type": "code",
   "execution_count": 11,
   "metadata": {
    "collapsed": false
   },
   "outputs": [
    {
     "data": {
      "text/html": [
       "<div>\n",
       "<table border=\"1\" class=\"dataframe\">\n",
       "  <thead>\n",
       "    <tr style=\"text-align: right;\">\n",
       "      <th></th>\n",
       "      <th>culture</th>\n",
       "      <th>protection</th>\n",
       "      <th>questions</th>\n",
       "      <th>finding</th>\n",
       "      <th>getting</th>\n",
       "      <th>verify</th>\n",
       "      <th>clean</th>\n",
       "      <th>analyse</th>\n",
       "      <th>visualize</th>\n",
       "      <th>communicate</th>\n",
       "      <th>interpretation</th>\n",
       "    </tr>\n",
       "  </thead>\n",
       "  <tbody>\n",
       "    <tr>\n",
       "      <th>0</th>\n",
       "      <td>3</td>\n",
       "      <td>4</td>\n",
       "      <td>NaN</td>\n",
       "      <td>2</td>\n",
       "      <td>2</td>\n",
       "      <td>4</td>\n",
       "      <td>2</td>\n",
       "      <td>NaN</td>\n",
       "      <td>1</td>\n",
       "      <td>2</td>\n",
       "      <td>4</td>\n",
       "    </tr>\n",
       "    <tr>\n",
       "      <th>1</th>\n",
       "      <td>3</td>\n",
       "      <td>4</td>\n",
       "      <td>NaN</td>\n",
       "      <td>2</td>\n",
       "      <td>2</td>\n",
       "      <td>4</td>\n",
       "      <td>2</td>\n",
       "      <td>NaN</td>\n",
       "      <td>2</td>\n",
       "      <td>2</td>\n",
       "      <td>4</td>\n",
       "    </tr>\n",
       "    <tr>\n",
       "      <th>2</th>\n",
       "      <td>2</td>\n",
       "      <td>3</td>\n",
       "      <td>4.0</td>\n",
       "      <td>4</td>\n",
       "      <td>3</td>\n",
       "      <td>3</td>\n",
       "      <td>2</td>\n",
       "      <td>1.0</td>\n",
       "      <td>4</td>\n",
       "      <td>4</td>\n",
       "      <td>2</td>\n",
       "    </tr>\n",
       "    <tr>\n",
       "      <th>3</th>\n",
       "      <td>2</td>\n",
       "      <td>2</td>\n",
       "      <td>1.0</td>\n",
       "      <td>1</td>\n",
       "      <td>2</td>\n",
       "      <td>3</td>\n",
       "      <td>1</td>\n",
       "      <td>1.0</td>\n",
       "      <td>1</td>\n",
       "      <td>1</td>\n",
       "      <td>2</td>\n",
       "    </tr>\n",
       "    <tr>\n",
       "      <th>4</th>\n",
       "      <td>3</td>\n",
       "      <td>4</td>\n",
       "      <td>3.0</td>\n",
       "      <td>1</td>\n",
       "      <td>2</td>\n",
       "      <td>3</td>\n",
       "      <td>2</td>\n",
       "      <td>1.0</td>\n",
       "      <td>1</td>\n",
       "      <td>2</td>\n",
       "      <td>2</td>\n",
       "    </tr>\n",
       "    <tr>\n",
       "      <th>5</th>\n",
       "      <td>3</td>\n",
       "      <td>3</td>\n",
       "      <td>NaN</td>\n",
       "      <td>3</td>\n",
       "      <td>2</td>\n",
       "      <td>4</td>\n",
       "      <td>2</td>\n",
       "      <td>1.0</td>\n",
       "      <td>1</td>\n",
       "      <td>2</td>\n",
       "      <td>4</td>\n",
       "    </tr>\n",
       "  </tbody>\n",
       "</table>\n",
       "</div>"
      ],
      "text/plain": [
       "   culture  protection  questions  finding  getting  verify  clean  analyse  \\\n",
       "0        3           4        NaN        2        2       4      2      NaN   \n",
       "1        3           4        NaN        2        2       4      2      NaN   \n",
       "2        2           3        4.0        4        3       3      2      1.0   \n",
       "3        2           2        1.0        1        2       3      1      1.0   \n",
       "4        3           4        3.0        1        2       3      2      1.0   \n",
       "5        3           3        NaN        3        2       4      2      1.0   \n",
       "\n",
       "   visualize  communicate  interpretation  \n",
       "0          1            2               4  \n",
       "1          2            2               4  \n",
       "2          4            4               2  \n",
       "3          1            1               2  \n",
       "4          1            2               2  \n",
       "5          1            2               4  "
      ]
     },
     "execution_count": 11,
     "metadata": {},
     "output_type": "execute_result"
    }
   ],
   "source": [
    "df_results = df_answer.applymap(match_points)\n",
    "df_results"
   ]
  },
  {
   "cell_type": "markdown",
   "metadata": {},
   "source": [
    "Mit Hilfe der *applymap-Funktion* können wir die *match_points-Funktion* auf das gesamte Dataframe anwenden. Wir erhalten ein Dataframe mit den jeweiligen Werten für die einzelnen Antworten und nennen es *df_results*."
   ]
  },
  {
   "cell_type": "markdown",
   "metadata": {},
   "source": [
    "### 3) Analysis"
   ]
  },
  {
   "cell_type": "code",
   "execution_count": 12,
   "metadata": {
    "collapsed": false
   },
   "outputs": [
    {
     "data": {
      "text/html": [
       "<div>\n",
       "<table border=\"1\" class=\"dataframe\">\n",
       "  <thead>\n",
       "    <tr style=\"text-align: right;\">\n",
       "      <th></th>\n",
       "      <th>medianvalues</th>\n",
       "    </tr>\n",
       "  </thead>\n",
       "  <tbody>\n",
       "    <tr>\n",
       "      <th>culture</th>\n",
       "      <td>3.0</td>\n",
       "    </tr>\n",
       "    <tr>\n",
       "      <th>protection</th>\n",
       "      <td>3.5</td>\n",
       "    </tr>\n",
       "    <tr>\n",
       "      <th>questions</th>\n",
       "      <td>3.0</td>\n",
       "    </tr>\n",
       "    <tr>\n",
       "      <th>finding</th>\n",
       "      <td>2.0</td>\n",
       "    </tr>\n",
       "    <tr>\n",
       "      <th>getting</th>\n",
       "      <td>2.0</td>\n",
       "    </tr>\n",
       "    <tr>\n",
       "      <th>verify</th>\n",
       "      <td>3.5</td>\n",
       "    </tr>\n",
       "    <tr>\n",
       "      <th>clean</th>\n",
       "      <td>2.0</td>\n",
       "    </tr>\n",
       "    <tr>\n",
       "      <th>analyse</th>\n",
       "      <td>1.0</td>\n",
       "    </tr>\n",
       "    <tr>\n",
       "      <th>visualize</th>\n",
       "      <td>1.0</td>\n",
       "    </tr>\n",
       "    <tr>\n",
       "      <th>communicate</th>\n",
       "      <td>2.0</td>\n",
       "    </tr>\n",
       "    <tr>\n",
       "      <th>interpretation</th>\n",
       "      <td>3.0</td>\n",
       "    </tr>\n",
       "  </tbody>\n",
       "</table>\n",
       "</div>"
      ],
      "text/plain": [
       "                medianvalues\n",
       "culture                  3.0\n",
       "protection               3.5\n",
       "questions                3.0\n",
       "finding                  2.0\n",
       "getting                  2.0\n",
       "verify                   3.5\n",
       "clean                    2.0\n",
       "analyse                  1.0\n",
       "visualize                1.0\n",
       "communicate              2.0\n",
       "interpretation           3.0"
      ]
     },
     "execution_count": 12,
     "metadata": {},
     "output_type": "execute_result"
    }
   ],
   "source": [
    "df_results_median = pd.DataFrame(df_results.median())\n",
    "df_results_median = df_results_median.rename(columns={0:'medianvalues'})\n",
    "df_results_median"
   ]
  },
  {
   "cell_type": "markdown",
   "metadata": {},
   "source": [
    "Im nächsten Schritt erstellen wir uns einen Datensatz, der für jede Antwortktegorie den Medianwert aus den Antworten aller Teilnehmenden enthält. Der Median ist dabei robuster gegenüber Außreißern als der Durchschnitt. Das neue Dataframe nennen wir *df_results_median*"
   ]
  },
  {
   "cell_type": "code",
   "execution_count": 13,
   "metadata": {
    "collapsed": false
   },
   "outputs": [],
   "source": [
    "df_results.to_csv('Results/Results.csv',index=False)\n",
    "df_results_median.to_csv('Results/Median.csv',index=False)"
   ]
  },
  {
   "cell_type": "markdown",
   "metadata": {
    "collapsed": true
   },
   "source": [
    "Die Ergebnisse speichern wir in zwei. Eine für die Gesamtresultate *(Results)* und einen für die Medianwerte *(Median)*. Die Dateien werden in den Ordner Results abgelegt."
   ]
  },
  {
   "cell_type": "markdown",
   "metadata": {},
   "source": [
    "### 4) Visualisierung"
   ]
  },
  {
   "cell_type": "code",
   "execution_count": 14,
   "metadata": {
    "collapsed": false,
    "scrolled": true
   },
   "outputs": [],
   "source": [
    "class Radar(object):\n",
    "    def __init__(self, fig, titles, labels, rotation=0, rect=None):\n",
    "        if rect is None:\n",
    "            rect = [0.05,0.05,0.88,0.88]\n",
    "        self.n = len(titles)\n",
    "        self.angles = np.arange(0, 360, 360.0/self.n)\n",
    "\n",
    "        self.axes = [fig.add_axes(rect, projection=\"polar\", label=\"axes%d\" % i) for i in range(self.n)]\n",
    " \n",
    "        self.ax = self.axes[0]\n",
    "        self.ax.set_thetagrids(self.angles, labels=titles, fontsize=10)\n",
    " \n",
    " \n",
    "        for ax in self.axes[1:]:\n",
    "            ax.patch.set_visible(False)\n",
    "            ax.grid(\"off\")\n",
    "            ax.xaxis.set_visible(False)\n",
    " \n",
    "        for ax, angle, label in zip(self.axes, self.angles, labels):\n",
    "            ax.set_rgrids(range(1, 6), angle=angle, labels=label)\n",
    "            ax.spines[\"polar\"].set_visible(False)\n",
    "            ax.set_ylim(0, 5)\n",
    "            ax.set_theta_offset(np.deg2rad(90))\n",
    " \n",
    "    def plot(self, values, *args, **kw):\n",
    "        angle = np.deg2rad(np.r_[self.angles, self.angles[0]])\n",
    "        values = np.r_[values, values[0]]\n",
    "        self.ax.plot(angle, values, *args, **kw)\n",
    " \n",
    "    def fill(self, values, colores):\n",
    "        angle = np.deg2rad(np.r_[self.angles, self.angles[0]])\n",
    "        values = np.r_[values, values[0]]\n",
    "        self.ax.fill_between(angle, values, alpha=\"0.5\", color=colores)"
   ]
  },
  {
   "cell_type": "markdown",
   "metadata": {},
   "source": [
    "Um eine übersichtliche Darstellung der Ergebnisse zu erhalten, erstellen wir ein Spider-Diagramm. Das Diagramm ist gut geeignet, um die unterschiedlichen Stärken in zuvor festgelegten Kategorien darzustellen, die alle eine gleiche Skala verwenden. "
   ]
  },
  {
   "cell_type": "code",
   "execution_count": 15,
   "metadata": {
    "collapsed": false
   },
   "outputs": [
    {
     "name": "stderr",
     "output_type": "stream",
     "text": [
      "/usr/local/lib/python3.5/site-packages/matplotlib/axes/_axes.py:531: UserWarning: No labelled objects found. Use label='...' kwarg on individual plots.\n",
      "  warnings.warn(\"No labelled objects found. \"\n"
     ]
    },
    {
     "data": {
      "image/png": "[encoded data removed]",
      "text/plain": [
       "<matplotlib.figure.Figure at 0x112766f60>"
      ]
     },
     "metadata": {},
     "output_type": "display_data"
    }
   ],
   "source": [
    "fig = pl.figure(figsize=(6,6))\n",
    "titles = ['culture',\n",
    "          'data protection',\n",
    "          'ask questions',\n",
    "          'find',\n",
    "          'get',\n",
    "          'verify',\n",
    "          'clean', \n",
    "          'analyse', \n",
    "          'visualize', \n",
    "          'communicate',\n",
    "          'interpret'\n",
    "         ]\n",
    " \n",
    "labels =  [list(\"1234\")]*11\n",
    "\n",
    "radar_stat = Radar(fig, titles, labels)\n",
    "\n",
    "radar_stat.plot(df_results_median['medianvalues'],  \"-\", lw=2, color=\"black\", alpha=0.15)\n",
    "radar_stat.fill(df_results_median['medianvalues'], colores=\"orange\")\n",
    "\n",
    "radar_stat.ax.legend()\n",
    " \n",
    "pl.show()\n",
    "fig.savefig('../Data_Literacy_Matrix/Results/Data_Literacy_Matrix.png', bbox_inches='tight')"
   ]
  },
  {
   "cell_type": "markdown",
   "metadata": {},
   "source": [
    "Unter *radar_stat.plot()* und *radar_stat.fill()* fügen wir das Datenset *df_results_median* ein. Daraufhin erhalten wir ein Spider-Diagramm mit der Gesamtauswertung der Data-Literacy Matrix als Png. Die Datei legen wir ebenfalls im Ordner *Results* ab. "
   ]
  }
 ],
 "metadata": {
  "kernelspec": {
   "display_name": "Python 3",
   "language": "python",
   "name": "python3"
  },
  "language_info": {
   "codemirror_mode": {
    "name": "ipython",
    "version": 3
   },
   "file_extension": ".py",
   "mimetype": "text/x-python",
   "name": "python",
   "nbconvert_exporter": "python",
   "pygments_lexer": "ipython3",
   "version": "3.5.2"
  }
 },
 "nbformat": 4,
 "nbformat_minor": 1
}
